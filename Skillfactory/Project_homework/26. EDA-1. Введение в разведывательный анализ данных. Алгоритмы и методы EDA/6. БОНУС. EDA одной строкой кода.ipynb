{
 "cells": [
  {
   "cell_type": "markdown",
   "metadata": {},
   "source": [
    "# EDA одной строкой кода\n",
    "\n",
    "*В реальной жизни большую часть работы над моделью занимает разведывательный анализ данных. С целью решения подобной проблемы появились инструменты автоматической визуализации и представления датасета.*\n",
    "\n",
    "*К таким инструментам можно отнести следующие библиотеки Python, которые могут выполнять EDA всего одной строкой кода:\n",
    "\n",
    "1. ***d-tale;***\n",
    "2. ***ydata-profiling;***\n",
    "3. ***sweetviz.***\n"
   ]
  },
  {
   "cell_type": "markdown",
   "metadata": {},
   "source": [
    "## Ydata-profiling\n",
    "\n",
    "***Ydata-profiling*** — *это библиотека с открытым исходным кодом, которая создаёт подробный отчёт по данным. Ydata-profiling можно легко использовать для больших наборов данных: отчёты создаются всего за несколько секунд.*\n",
    "\n",
    "***Примечание.*** *Ранее библиотека ydata-profiling называлась pandas-profiling и работала только с pandas.DataFrame. Однако, начиная с версии 4.0.0, в библиотеке появилась возможность работать с форматами данных библиотеки Spark (библиотека для работы с распределёнными вычислениями на больших объёмах данных). В результате расширения возможностей библиотеки возникла необходимость ребрендинга, который и привёл к смене имени. Синтаксис и формат выходных данных для pandas остались теми же.*"
   ]
  },
  {
   "cell_type": "markdown",
   "metadata": {},
   "source": [
    "*Установка (выполните в терминале или ячейке ноутбука):*"
   ]
  },
  {
   "cell_type": "code",
   "execution_count": null,
   "metadata": {},
   "outputs": [],
   "source": [
    "import sys\n",
    "\n",
    "C:\\Users\\User\\AppData\\Local\\Programs\\Python\\Python312\\Scripts\n"
   ]
  }
 ],
 "metadata": {
  "kernelspec": {
   "display_name": "Python 3",
   "language": "python",
   "name": "python3"
  },
  "language_info": {
   "codemirror_mode": {
    "name": "ipython",
    "version": 3
   },
   "file_extension": ".py",
   "mimetype": "text/x-python",
   "name": "python",
   "nbconvert_exporter": "python",
   "pygments_lexer": "ipython3",
   "version": "3.12.5"
  }
 },
 "nbformat": 4,
 "nbformat_minor": 2
}
